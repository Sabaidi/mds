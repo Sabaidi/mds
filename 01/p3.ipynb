{
  "cells": [
    {
      "cell_type": "code",
      "execution_count": 32,
      "metadata": {
        "collapsed": true,
        "pycharm": {
          "is_executing": false
        }
      },
      "outputs": [],
      "source": "import numpy as np\nimport pandas as pd\nimport matplotlib.pyplot as plt\n"
    },
    {
      "cell_type": "code",
      "execution_count": 41,
      "outputs": [],
      "source": "data \u003d pd.read_csv(\"plink.model.trend.adjusted\" ,header\u003d0, delim_whitespace\u003dTrue)",
      "metadata": {
        "pycharm": {
          "metadata": false,
          "name": "#%%\n",
          "is_executing": false
        }
      }
    },
    {
      "cell_type": "code",
      "execution_count": 42,
      "outputs": [],
      "source": "# coch_arm \u003d data.loc[data[\"TEST\"] \u003d\u003d \"TREND\"]\nunadj \u003d data[\"UNADJ\"]\ngc \u003d data[\"GC\"]\nbonferoni \u003d data[\"BONF\"]\n",
      "metadata": {
        "pycharm": {
          "metadata": false,
          "name": "#%%\n",
          "is_executing": false
        }
      }
    },
    {
      "cell_type": "code",
      "execution_count": 35,
      "outputs": [],
      "source": "coch_arm \u003d coch_arm.dropna()\nP \u003d coch_arm[\"P\"]\nP \u003d sorted(P)",
      "metadata": {
        "pycharm": {
          "metadata": false,
          "name": "#%%\n",
          "is_executing": false
        }
      }
    },
    {
      "cell_type": "code",
      "execution_count": 49,
      "outputs": [],
      "source": "logp \u003d -np.log10(bonferoni)\nexpected \u003d [-np.log10(float(x)/len(logp)) for x in range(1, len(logp) + 1)]\n",
      "metadata": {
        "pycharm": {
          "metadata": false,
          "name": "#%%\n",
          "is_executing": false
        }
      }
    },
    {
      "cell_type": "code",
      "execution_count": 50,
      "outputs": [
        {
          "data": {
            "text/plain": "\u003cFigure size 432x288 with 1 Axes\u003e",
            "image/png": "[encoded data removed]"
          },
          "metadata": {
            "needs_background": "light"
          },
          "output_type": "display_data"
        }
      ],
      "source": "ax \u003d plt.subplot(1,1,1)\nax.plot(expected, logp, linestyle\u003d\"-\")\nax.plot([0, 1], [0, 1], transform\u003dax.transAxes, ls\u003d\"--\")\nplt.xlabel(\"-log10 Expected Value\")\nplt.ylabel(\"-log10 Observed Value\")\nplt.title(\"QQ-Plot\")\nplt.savefig(\"qqplot_bonferoni\")\nplt.show()\n\n",
      "metadata": {
        "pycharm": {
          "metadata": false,
          "name": "#%%\n",
          "is_executing": false
        }
      }
    }
  ],
  "metadata": {
    "language_info": {
      "codemirror_mode": {
        "name": "ipython",
        "version": 2
      },
      "file_extension": ".py",
      "mimetype": "text/x-python",
      "name": "python",
      "nbconvert_exporter": "python",
      "pygments_lexer": "ipython2",
      "version": "2.7.6"
    },
    "kernelspec": {
      "name": "python3",
      "language": "python",
      "display_name": "Python 3"
    }
  },
  "nbformat": 4,
  "nbformat_minor": 0
}